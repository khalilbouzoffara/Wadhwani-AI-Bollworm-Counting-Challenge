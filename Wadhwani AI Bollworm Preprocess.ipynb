{
 "cells": [
  {
   "cell_type": "code",
   "execution_count": 2,
   "metadata": {},
   "outputs": [],
   "source": [
    "\n",
    "import timm\n",
    "import warnings \n",
    "import albumentations as A\n",
    "import torch.nn as nn\n",
    "import pandas as pd\n",
    "import numpy as np\n",
    "from albumentations.pytorch import ToTensorV2\n",
    "from sklearn.model_selection import StratifiedKFold\n",
    "from sklearn.preprocessing import LabelEncoder\n",
    "import pandas as pd\n",
    "warnings.filterwarnings('ignore')\n",
    "#set_seed(21, reproducible=True)"
   ]
  },
  {
   "cell_type": "code",
   "execution_count": 3,
   "metadata": {},
   "outputs": [
    {
     "name": "stdout",
     "output_type": "stream",
     "text": [
      "Using device: cuda\n"
     ]
    }
   ],
   "source": [
    "import torch\n",
    "# Checking for GPU cuda and Device Optimization\n",
    "if torch.cuda.is_available():\n",
    "    device = torch.device('cuda')\n",
    "else:\n",
    "    device = torch.device('cpu')\n",
    "    \n",
    "print(f'Using device: {device}')"
   ]
  },
  {
   "cell_type": "code",
   "execution_count": 4,
   "metadata": {},
   "outputs": [],
   "source": [
    "train = pd.read_csv('Train.csv')"
   ]
  },
  {
   "cell_type": "code",
   "execution_count": 5,
   "metadata": {},
   "outputs": [
    {
     "data": {
      "text/html": [
       "<div>\n",
       "<style scoped>\n",
       "    .dataframe tbody tr th:only-of-type {\n",
       "        vertical-align: middle;\n",
       "    }\n",
       "\n",
       "    .dataframe tbody tr th {\n",
       "        vertical-align: top;\n",
       "    }\n",
       "\n",
       "    .dataframe thead th {\n",
       "        text-align: right;\n",
       "    }\n",
       "</style>\n",
       "<table border=\"1\" class=\"dataframe\">\n",
       "  <thead>\n",
       "    <tr style=\"text-align: right;\">\n",
       "      <th></th>\n",
       "      <th>image_id_worm</th>\n",
       "      <th>worm_type</th>\n",
       "      <th>number_of_worms</th>\n",
       "    </tr>\n",
       "  </thead>\n",
       "  <tbody>\n",
       "    <tr>\n",
       "      <th>0</th>\n",
       "      <td>id_0002ea6f15c7fa6f4c221783.jpg</td>\n",
       "      <td>pbw</td>\n",
       "      <td>51</td>\n",
       "    </tr>\n",
       "    <tr>\n",
       "      <th>1</th>\n",
       "      <td>id_0005ef295aafe6acc63587db.jpg</td>\n",
       "      <td>pbw</td>\n",
       "      <td>8</td>\n",
       "    </tr>\n",
       "    <tr>\n",
       "      <th>2</th>\n",
       "      <td>id_00084298dd030a500033ff78.jpg</td>\n",
       "      <td>NaN</td>\n",
       "      <td>0</td>\n",
       "    </tr>\n",
       "    <tr>\n",
       "      <th>3</th>\n",
       "      <td>id_00093f2c76f6488737325859.jpg</td>\n",
       "      <td>pbw</td>\n",
       "      <td>12</td>\n",
       "    </tr>\n",
       "    <tr>\n",
       "      <th>4</th>\n",
       "      <td>id_000b2e6c437c643f25d4a6c3.jpg</td>\n",
       "      <td>pbw</td>\n",
       "      <td>87</td>\n",
       "    </tr>\n",
       "  </tbody>\n",
       "</table>\n",
       "</div>"
      ],
      "text/plain": [
       "                     image_id_worm worm_type  number_of_worms\n",
       "0  id_0002ea6f15c7fa6f4c221783.jpg       pbw               51\n",
       "1  id_0005ef295aafe6acc63587db.jpg       pbw                8\n",
       "2  id_00084298dd030a500033ff78.jpg       NaN                0\n",
       "3  id_00093f2c76f6488737325859.jpg       pbw               12\n",
       "4  id_000b2e6c437c643f25d4a6c3.jpg       pbw               87"
      ]
     },
     "execution_count": 5,
     "metadata": {},
     "output_type": "execute_result"
    }
   ],
   "source": [
    "train.head()"
   ]
  },
  {
   "cell_type": "code",
   "execution_count": 6,
   "metadata": {},
   "outputs": [
    {
     "data": {
      "text/plain": [
       "(9900, 3)"
      ]
     },
     "execution_count": 6,
     "metadata": {},
     "output_type": "execute_result"
    }
   ],
   "source": [
    "train.shape"
   ]
  },
  {
   "cell_type": "code",
   "execution_count": 7,
   "metadata": {},
   "outputs": [
    {
     "data": {
      "text/plain": [
       "image_id_worm         0\n",
       "worm_type          3258\n",
       "number_of_worms       0\n",
       "dtype: int64"
      ]
     },
     "execution_count": 7,
     "metadata": {},
     "output_type": "execute_result"
    }
   ],
   "source": [
    "train.isnull().sum()"
   ]
  },
  {
   "cell_type": "code",
   "execution_count": 8,
   "metadata": {},
   "outputs": [],
   "source": [
    "train[\"worm_type\"] = train[\"worm_type\"].replace(np.NaN , 'No worm')"
   ]
  },
  {
   "cell_type": "code",
   "execution_count": 9,
   "metadata": {},
   "outputs": [
    {
     "data": {
      "text/plain": [
       "1    4947\n",
       "3    3258\n",
       "2    1695\n",
       "Name: worm_type, dtype: int64"
      ]
     },
     "execution_count": 9,
     "metadata": {},
     "output_type": "execute_result"
    }
   ],
   "source": [
    "new_values_train = {'pbw': 1, 'abw': 2, 'No worm':3}\n",
    "train = train.replace({\"worm_type\":new_values_train})\n",
    "train['worm_type'].value_counts()"
   ]
  },
  {
   "cell_type": "code",
   "execution_count": 10,
   "metadata": {},
   "outputs": [
    {
     "data": {
      "text/html": [
       "<div>\n",
       "<style scoped>\n",
       "    .dataframe tbody tr th:only-of-type {\n",
       "        vertical-align: middle;\n",
       "    }\n",
       "\n",
       "    .dataframe tbody tr th {\n",
       "        vertical-align: top;\n",
       "    }\n",
       "\n",
       "    .dataframe thead th {\n",
       "        text-align: right;\n",
       "    }\n",
       "</style>\n",
       "<table border=\"1\" class=\"dataframe\">\n",
       "  <thead>\n",
       "    <tr style=\"text-align: right;\">\n",
       "      <th></th>\n",
       "      <th>image_id_worm</th>\n",
       "    </tr>\n",
       "  </thead>\n",
       "  <tbody>\n",
       "    <tr>\n",
       "      <th>0</th>\n",
       "      <td>id_00332970f80fa9a47a39516d.jpg</td>\n",
       "    </tr>\n",
       "    <tr>\n",
       "      <th>1</th>\n",
       "      <td>id_0035981bc3ae42eb5b57a317.jpg</td>\n",
       "    </tr>\n",
       "    <tr>\n",
       "      <th>2</th>\n",
       "      <td>id_005102f664b820f778291dee.jpg</td>\n",
       "    </tr>\n",
       "    <tr>\n",
       "      <th>3</th>\n",
       "      <td>id_0066456f5fb2cd858c69ab39.jpg</td>\n",
       "    </tr>\n",
       "    <tr>\n",
       "      <th>4</th>\n",
       "      <td>id_007159c1fa015ba6f394deeb.jpg</td>\n",
       "    </tr>\n",
       "  </tbody>\n",
       "</table>\n",
       "</div>"
      ],
      "text/plain": [
       "                     image_id_worm\n",
       "0  id_00332970f80fa9a47a39516d.jpg\n",
       "1  id_0035981bc3ae42eb5b57a317.jpg\n",
       "2  id_005102f664b820f778291dee.jpg\n",
       "3  id_0066456f5fb2cd858c69ab39.jpg\n",
       "4  id_007159c1fa015ba6f394deeb.jpg"
      ]
     },
     "execution_count": 10,
     "metadata": {},
     "output_type": "execute_result"
    }
   ],
   "source": [
    "test = pd.read_csv('Test.csv')\n",
    "test.head()"
   ]
  },
  {
   "cell_type": "code",
   "execution_count": 10,
   "metadata": {},
   "outputs": [
    {
     "data": {
      "text/plain": [
       "(2803, 1)"
      ]
     },
     "execution_count": 10,
     "metadata": {},
     "output_type": "execute_result"
    }
   ],
   "source": [
    "test.shape"
   ]
  },
  {
   "cell_type": "code",
   "execution_count": 30,
   "metadata": {},
   "outputs": [
    {
     "data": {
      "text/html": [
       "<div>\n",
       "<style scoped>\n",
       "    .dataframe tbody tr th:only-of-type {\n",
       "        vertical-align: middle;\n",
       "    }\n",
       "\n",
       "    .dataframe tbody tr th {\n",
       "        vertical-align: top;\n",
       "    }\n",
       "\n",
       "    .dataframe thead th {\n",
       "        text-align: right;\n",
       "    }\n",
       "</style>\n",
       "<table border=\"1\" class=\"dataframe\">\n",
       "  <thead>\n",
       "    <tr style=\"text-align: right;\">\n",
       "      <th></th>\n",
       "      <th>image_id</th>\n",
       "      <th>worm_type</th>\n",
       "      <th>geometry</th>\n",
       "    </tr>\n",
       "  </thead>\n",
       "  <tbody>\n",
       "    <tr>\n",
       "      <th>0</th>\n",
       "      <td>id_8ada71185e18dc8838b4925b.jpg</td>\n",
       "      <td>pbw</td>\n",
       "      <td>POLYGON ((2478.89 156.77, 2478.89 297.86, 2377...</td>\n",
       "    </tr>\n",
       "    <tr>\n",
       "      <th>1</th>\n",
       "      <td>id_8ada71185e18dc8838b4925b.jpg</td>\n",
       "      <td>pbw</td>\n",
       "      <td>POLYGON ((939.8199999999999 1221.46, 939.81999...</td>\n",
       "    </tr>\n",
       "    <tr>\n",
       "      <th>2</th>\n",
       "      <td>id_8ada71185e18dc8838b4925b.jpg</td>\n",
       "      <td>abw</td>\n",
       "      <td>POLYGON ((1559.7 1558.06, 1559.7 1966.3, 1129....</td>\n",
       "    </tr>\n",
       "    <tr>\n",
       "      <th>3</th>\n",
       "      <td>id_bc86d3cfd0c0463fa5cae33e.jpg</td>\n",
       "      <td>abw</td>\n",
       "      <td>POLYGON ((2090.216399557101 1537.2100674812148...</td>\n",
       "    </tr>\n",
       "    <tr>\n",
       "      <th>4</th>\n",
       "      <td>id_bc86d3cfd0c0463fa5cae33e.jpg</td>\n",
       "      <td>abw</td>\n",
       "      <td>POLYGON ((2342.2568587778546 1676.304250464547...</td>\n",
       "    </tr>\n",
       "  </tbody>\n",
       "</table>\n",
       "</div>"
      ],
      "text/plain": [
       "                          image_id worm_type  \\\n",
       "0  id_8ada71185e18dc8838b4925b.jpg       pbw   \n",
       "1  id_8ada71185e18dc8838b4925b.jpg       pbw   \n",
       "2  id_8ada71185e18dc8838b4925b.jpg       abw   \n",
       "3  id_bc86d3cfd0c0463fa5cae33e.jpg       abw   \n",
       "4  id_bc86d3cfd0c0463fa5cae33e.jpg       abw   \n",
       "\n",
       "                                            geometry  \n",
       "0  POLYGON ((2478.89 156.77, 2478.89 297.86, 2377...  \n",
       "1  POLYGON ((939.8199999999999 1221.46, 939.81999...  \n",
       "2  POLYGON ((1559.7 1558.06, 1559.7 1966.3, 1129....  \n",
       "3  POLYGON ((2090.216399557101 1537.2100674812148...  \n",
       "4  POLYGON ((2342.2568587778546 1676.304250464547...  "
      ]
     },
     "execution_count": 30,
     "metadata": {},
     "output_type": "execute_result"
    }
   ],
   "source": [
    "images_boxes = pd.read_csv('images_bboxes.csv')\n",
    "images_boxes.head()"
   ]
  },
  {
   "cell_type": "code",
   "execution_count": 25,
   "metadata": {},
   "outputs": [
    {
     "data": {
      "text/plain": [
       "3258"
      ]
     },
     "execution_count": 25,
     "metadata": {},
     "output_type": "execute_result"
    }
   ],
   "source": [
    "images_boxes['geometry'].isnull().sum()"
   ]
  },
  {
   "cell_type": "code",
   "execution_count": 26,
   "metadata": {},
   "outputs": [
    {
     "data": {
      "text/html": [
       "<div>\n",
       "<style scoped>\n",
       "    .dataframe tbody tr th:only-of-type {\n",
       "        vertical-align: middle;\n",
       "    }\n",
       "\n",
       "    .dataframe tbody tr th {\n",
       "        vertical-align: top;\n",
       "    }\n",
       "\n",
       "    .dataframe thead th {\n",
       "        text-align: right;\n",
       "    }\n",
       "</style>\n",
       "<table border=\"1\" class=\"dataframe\">\n",
       "  <thead>\n",
       "    <tr style=\"text-align: right;\">\n",
       "      <th></th>\n",
       "      <th>image_id</th>\n",
       "      <th>worm_type</th>\n",
       "      <th>geometry</th>\n",
       "    </tr>\n",
       "  </thead>\n",
       "  <tbody>\n",
       "    <tr>\n",
       "      <th>532</th>\n",
       "      <td>id_e45d64c9ab7a54e05b99ecdc.jpg</td>\n",
       "      <td>NaN</td>\n",
       "      <td>NaN</td>\n",
       "    </tr>\n",
       "    <tr>\n",
       "      <th>572</th>\n",
       "      <td>id_55c69d3402c27bbe37ac6683.jpg</td>\n",
       "      <td>NaN</td>\n",
       "      <td>NaN</td>\n",
       "    </tr>\n",
       "    <tr>\n",
       "      <th>620</th>\n",
       "      <td>id_1b746acec11fc62f95db2bcb.jpg</td>\n",
       "      <td>NaN</td>\n",
       "      <td>NaN</td>\n",
       "    </tr>\n",
       "    <tr>\n",
       "      <th>641</th>\n",
       "      <td>id_5d6a2c8811a294f14bcde464.jpg</td>\n",
       "      <td>NaN</td>\n",
       "      <td>NaN</td>\n",
       "    </tr>\n",
       "    <tr>\n",
       "      <th>651</th>\n",
       "      <td>id_4e75189682009c5574f66c90.jpg</td>\n",
       "      <td>NaN</td>\n",
       "      <td>NaN</td>\n",
       "    </tr>\n",
       "    <tr>\n",
       "      <th>...</th>\n",
       "      <td>...</td>\n",
       "      <td>...</td>\n",
       "      <td>...</td>\n",
       "    </tr>\n",
       "    <tr>\n",
       "      <th>9872</th>\n",
       "      <td>id_d19b17f61b6ddacfb3ae924c.jpg</td>\n",
       "      <td>NaN</td>\n",
       "      <td>NaN</td>\n",
       "    </tr>\n",
       "    <tr>\n",
       "      <th>9957</th>\n",
       "      <td>id_d6e8627c4cd8825494315661.jpg</td>\n",
       "      <td>NaN</td>\n",
       "      <td>NaN</td>\n",
       "    </tr>\n",
       "    <tr>\n",
       "      <th>10250</th>\n",
       "      <td>id_f5af7467096b0ab845d7dc08.jpg</td>\n",
       "      <td>NaN</td>\n",
       "      <td>NaN</td>\n",
       "    </tr>\n",
       "    <tr>\n",
       "      <th>10289</th>\n",
       "      <td>id_8c63e8a65494a10e6f08c48f.jpg</td>\n",
       "      <td>NaN</td>\n",
       "      <td>NaN</td>\n",
       "    </tr>\n",
       "    <tr>\n",
       "      <th>10715</th>\n",
       "      <td>id_dbef699e1569e2d1574b43ce.jpg</td>\n",
       "      <td>NaN</td>\n",
       "      <td>NaN</td>\n",
       "    </tr>\n",
       "  </tbody>\n",
       "</table>\n",
       "<p>3258 rows × 3 columns</p>\n",
       "</div>"
      ],
      "text/plain": [
       "                              image_id worm_type geometry\n",
       "532    id_e45d64c9ab7a54e05b99ecdc.jpg       NaN      NaN\n",
       "572    id_55c69d3402c27bbe37ac6683.jpg       NaN      NaN\n",
       "620    id_1b746acec11fc62f95db2bcb.jpg       NaN      NaN\n",
       "641    id_5d6a2c8811a294f14bcde464.jpg       NaN      NaN\n",
       "651    id_4e75189682009c5574f66c90.jpg       NaN      NaN\n",
       "...                                ...       ...      ...\n",
       "9872   id_d19b17f61b6ddacfb3ae924c.jpg       NaN      NaN\n",
       "9957   id_d6e8627c4cd8825494315661.jpg       NaN      NaN\n",
       "10250  id_f5af7467096b0ab845d7dc08.jpg       NaN      NaN\n",
       "10289  id_8c63e8a65494a10e6f08c48f.jpg       NaN      NaN\n",
       "10715  id_dbef699e1569e2d1574b43ce.jpg       NaN      NaN\n",
       "\n",
       "[3258 rows x 3 columns]"
      ]
     },
     "execution_count": 26,
     "metadata": {},
     "output_type": "execute_result"
    }
   ],
   "source": [
    "images_boxes[images_boxes['geometry'].isnull()== True]"
   ]
  },
  {
   "cell_type": "code",
   "execution_count": 27,
   "metadata": {},
   "outputs": [],
   "source": [
    "images_boxes.dropna(inplace=True)"
   ]
  },
  {
   "cell_type": "code",
   "execution_count": 28,
   "metadata": {},
   "outputs": [
    {
     "data": {
      "text/html": [
       "<div>\n",
       "<style scoped>\n",
       "    .dataframe tbody tr th:only-of-type {\n",
       "        vertical-align: middle;\n",
       "    }\n",
       "\n",
       "    .dataframe tbody tr th {\n",
       "        vertical-align: top;\n",
       "    }\n",
       "\n",
       "    .dataframe thead th {\n",
       "        text-align: right;\n",
       "    }\n",
       "</style>\n",
       "<table border=\"1\" class=\"dataframe\">\n",
       "  <thead>\n",
       "    <tr style=\"text-align: right;\">\n",
       "      <th></th>\n",
       "      <th>image_id</th>\n",
       "      <th>worm_type</th>\n",
       "      <th>min_X</th>\n",
       "      <th>min_Y</th>\n",
       "      <th>max_X</th>\n",
       "      <th>max_Y</th>\n",
       "    </tr>\n",
       "  </thead>\n",
       "  <tbody>\n",
       "    <tr>\n",
       "      <th>0</th>\n",
       "      <td>id_8ada71185e18dc8838b4925b.jpg</td>\n",
       "      <td>pbw</td>\n",
       "      <td>2377.970000</td>\n",
       "      <td>156.770000</td>\n",
       "      <td>2478.890000</td>\n",
       "      <td>297.860000</td>\n",
       "    </tr>\n",
       "    <tr>\n",
       "      <th>1</th>\n",
       "      <td>id_8ada71185e18dc8838b4925b.jpg</td>\n",
       "      <td>pbw</td>\n",
       "      <td>715.390000</td>\n",
       "      <td>1221.460000</td>\n",
       "      <td>939.820000</td>\n",
       "      <td>1319.680000</td>\n",
       "    </tr>\n",
       "    <tr>\n",
       "      <th>2</th>\n",
       "      <td>id_8ada71185e18dc8838b4925b.jpg</td>\n",
       "      <td>abw</td>\n",
       "      <td>1129.730000</td>\n",
       "      <td>1558.060000</td>\n",
       "      <td>1559.700000</td>\n",
       "      <td>1966.300000</td>\n",
       "    </tr>\n",
       "    <tr>\n",
       "      <th>3</th>\n",
       "      <td>id_bc86d3cfd0c0463fa5cae33e.jpg</td>\n",
       "      <td>abw</td>\n",
       "      <td>1743.676282</td>\n",
       "      <td>1537.210067</td>\n",
       "      <td>2090.216400</td>\n",
       "      <td>1799.814857</td>\n",
       "    </tr>\n",
       "    <tr>\n",
       "      <th>4</th>\n",
       "      <td>id_bc86d3cfd0c0463fa5cae33e.jpg</td>\n",
       "      <td>abw</td>\n",
       "      <td>2162.137567</td>\n",
       "      <td>1676.304250</td>\n",
       "      <td>2342.256859</td>\n",
       "      <td>1952.269926</td>\n",
       "    </tr>\n",
       "  </tbody>\n",
       "</table>\n",
       "</div>"
      ],
      "text/plain": [
       "                          image_id worm_type        min_X        min_Y  \\\n",
       "0  id_8ada71185e18dc8838b4925b.jpg       pbw  2377.970000   156.770000   \n",
       "1  id_8ada71185e18dc8838b4925b.jpg       pbw   715.390000  1221.460000   \n",
       "2  id_8ada71185e18dc8838b4925b.jpg       abw  1129.730000  1558.060000   \n",
       "3  id_bc86d3cfd0c0463fa5cae33e.jpg       abw  1743.676282  1537.210067   \n",
       "4  id_bc86d3cfd0c0463fa5cae33e.jpg       abw  2162.137567  1676.304250   \n",
       "\n",
       "         max_X        max_Y  \n",
       "0  2478.890000   297.860000  \n",
       "1   939.820000  1319.680000  \n",
       "2  1559.700000  1966.300000  \n",
       "3  2090.216400  1799.814857  \n",
       "4  2342.256859  1952.269926  "
      ]
     },
     "execution_count": 28,
     "metadata": {},
     "output_type": "execute_result"
    }
   ],
   "source": [
    "def geometry_transform(data):\n",
    "    size = len(data)\n",
    "    L = np.array([x for x in data[:size - 2].replace('POLYGON ((', '').split(', ')])\n",
    "    L1 = [x.split(' ') for x in L]\n",
    "    return L1\n",
    "\n",
    "def geo_to_XY_1(data):\n",
    "    return data[0]\n",
    "\n",
    "def geo_to_XY_2(data):\n",
    "    if(len(data) > 1):\n",
    "        return data[1]\n",
    "    else:\n",
    "        return '0'\n",
    "\n",
    "def geo_to_XY_3(data):\n",
    "    if(len(data) > 1):\n",
    "        return data[2]\n",
    "    else:\n",
    "        return '0'\n",
    "\n",
    "def geo_to_XY_4(data):\n",
    "    if(len(data) > 1):\n",
    "        return data[3]\n",
    "    else:\n",
    "        return '0'\n",
    "\n",
    "def geo_to_XY_5(data):\n",
    "    if(len(data) > 1):\n",
    "        return data[4]\n",
    "    else:\n",
    "        return '0'\n",
    "\n",
    "def X_to_col(data):\n",
    "    return data[0]\n",
    "\n",
    "def Y_to_col(data):\n",
    "    return data[1]\n",
    "\n",
    "images_boxes['geometry']=images_boxes['geometry'].astype(str)\n",
    "images_boxes['geometry']=images_boxes['geometry'].apply(geometry_transform)\n",
    "#new XY col\n",
    "images_boxes['XY_1'] = images_boxes['geometry'].apply(geo_to_XY_1)\n",
    "images_boxes['XY_2'] = images_boxes['geometry'].apply(geo_to_XY_2)\n",
    "images_boxes['XY_3'] = images_boxes['geometry'].apply(geo_to_XY_3)\n",
    "images_boxes['XY_4'] = images_boxes['geometry'].apply(geo_to_XY_4)\n",
    "images_boxes['XY_5'] = images_boxes['geometry'].apply(geo_to_XY_5)\n",
    "\n",
    "#X and Y\n",
    "images_boxes['X_1'] = images_boxes['XY_1'].apply(X_to_col).astype('float64')\n",
    "images_boxes['Y_1'] = images_boxes['XY_1'].apply(Y_to_col).astype('float64')\n",
    "\n",
    "images_boxes['X_2'] = images_boxes['XY_2'].apply(X_to_col).astype('float64')\n",
    "images_boxes['Y_2'] = images_boxes['XY_2'].apply(Y_to_col).astype('float64')\n",
    "\n",
    "images_boxes['X_3'] = images_boxes['XY_3'].apply(X_to_col).astype('float64')\n",
    "images_boxes['Y_3'] = images_boxes['XY_3'].apply(Y_to_col).astype('float64')\n",
    "\n",
    "images_boxes['X_4'] = images_boxes['XY_4'].apply(X_to_col).astype('float64')\n",
    "images_boxes['Y_4'] = images_boxes['XY_4'].apply(Y_to_col).astype('float64')\n",
    "\n",
    "images_boxes['X_5'] = images_boxes['XY_5'].apply(X_to_col).astype('float64')\n",
    "images_boxes['Y_5'] = images_boxes['XY_5'].apply(Y_to_col).astype('float64')\n",
    "\n",
    "images_boxes['min_X'] = images_boxes[['X_1','X_2','X_3', 'X_4','X_5']].min(axis=1)\n",
    "images_boxes['min_Y'] = images_boxes[['Y_1','Y_2','Y_3', 'Y_4','Y_5']].min(axis=1)\n",
    "images_boxes['max_X'] = images_boxes[['X_1','X_2','X_3', 'X_4','X_5']].max(axis=1)\n",
    "images_boxes['max_Y'] = images_boxes[['Y_1','Y_2','Y_3', 'Y_4','Y_5']].max(axis=1)\n",
    "\n",
    "images_boxes.drop(columns=['XY_1','XY_2', 'XY_3', 'XY_4', 'XY_5', 'geometry','X_1','X_2', 'X_3', 'X_4', 'X_5','Y_1','Y_2', 'Y_3', 'Y_4', 'Y_5'], inplace=True)\n",
    "#new_values_ib = {'pbw': 1, 'abw': 2}\n",
    "#images_boxes = images_boxes.replace({\"worm_type\":new_values_ib})\n",
    "images_boxes.head()\n"
   ]
  },
  {
   "cell_type": "code",
   "execution_count": 17,
   "metadata": {},
   "outputs": [
    {
     "data": {
      "text/html": [
       "<div>\n",
       "<style scoped>\n",
       "    .dataframe tbody tr th:only-of-type {\n",
       "        vertical-align: middle;\n",
       "    }\n",
       "\n",
       "    .dataframe tbody tr th {\n",
       "        vertical-align: top;\n",
       "    }\n",
       "\n",
       "    .dataframe thead th {\n",
       "        text-align: right;\n",
       "    }\n",
       "</style>\n",
       "<table border=\"1\" class=\"dataframe\">\n",
       "  <thead>\n",
       "    <tr style=\"text-align: right;\">\n",
       "      <th></th>\n",
       "      <th>image_id</th>\n",
       "      <th>worm_type</th>\n",
       "      <th>min_X</th>\n",
       "      <th>min_Y</th>\n",
       "      <th>max_X</th>\n",
       "      <th>max_Y</th>\n",
       "    </tr>\n",
       "  </thead>\n",
       "  <tbody>\n",
       "    <tr>\n",
       "      <th>0</th>\n",
       "      <td>id_8ada71185e18dc8838b4925b.jpg</td>\n",
       "      <td>pbw</td>\n",
       "      <td>2377.970000</td>\n",
       "      <td>156.770000</td>\n",
       "      <td>2478.890000</td>\n",
       "      <td>297.860000</td>\n",
       "    </tr>\n",
       "    <tr>\n",
       "      <th>1</th>\n",
       "      <td>id_8ada71185e18dc8838b4925b.jpg</td>\n",
       "      <td>pbw</td>\n",
       "      <td>715.390000</td>\n",
       "      <td>1221.460000</td>\n",
       "      <td>939.820000</td>\n",
       "      <td>1319.680000</td>\n",
       "    </tr>\n",
       "    <tr>\n",
       "      <th>2</th>\n",
       "      <td>id_8ada71185e18dc8838b4925b.jpg</td>\n",
       "      <td>abw</td>\n",
       "      <td>1129.730000</td>\n",
       "      <td>1558.060000</td>\n",
       "      <td>1559.700000</td>\n",
       "      <td>1966.300000</td>\n",
       "    </tr>\n",
       "    <tr>\n",
       "      <th>3</th>\n",
       "      <td>id_bc86d3cfd0c0463fa5cae33e.jpg</td>\n",
       "      <td>abw</td>\n",
       "      <td>1743.676282</td>\n",
       "      <td>1537.210067</td>\n",
       "      <td>2090.216400</td>\n",
       "      <td>1799.814857</td>\n",
       "    </tr>\n",
       "    <tr>\n",
       "      <th>4</th>\n",
       "      <td>id_bc86d3cfd0c0463fa5cae33e.jpg</td>\n",
       "      <td>abw</td>\n",
       "      <td>2162.137567</td>\n",
       "      <td>1676.304250</td>\n",
       "      <td>2342.256859</td>\n",
       "      <td>1952.269926</td>\n",
       "    </tr>\n",
       "  </tbody>\n",
       "</table>\n",
       "</div>"
      ],
      "text/plain": [
       "                          image_id worm_type        min_X        min_Y  \\\n",
       "0  id_8ada71185e18dc8838b4925b.jpg       pbw  2377.970000   156.770000   \n",
       "1  id_8ada71185e18dc8838b4925b.jpg       pbw   715.390000  1221.460000   \n",
       "2  id_8ada71185e18dc8838b4925b.jpg       abw  1129.730000  1558.060000   \n",
       "3  id_bc86d3cfd0c0463fa5cae33e.jpg       abw  1743.676282  1537.210067   \n",
       "4  id_bc86d3cfd0c0463fa5cae33e.jpg       abw  2162.137567  1676.304250   \n",
       "\n",
       "         max_X        max_Y  \n",
       "0  2478.890000   297.860000  \n",
       "1   939.820000  1319.680000  \n",
       "2  1559.700000  1966.300000  \n",
       "3  2090.216400  1799.814857  \n",
       "4  2342.256859  1952.269926  "
      ]
     },
     "execution_count": 17,
     "metadata": {},
     "output_type": "execute_result"
    }
   ],
   "source": [
    "images_boxes.head()"
   ]
  },
  {
   "cell_type": "code",
   "execution_count": 29,
   "metadata": {},
   "outputs": [
    {
     "data": {
      "text/plain": [
       "min_X      \n",
       "0.000000       95\n",
       "1740.000000    56\n",
       "1985.000000    55\n",
       "1525.000000    53\n",
       "1658.000000    52\n",
       "               ..\n",
       "1509.893050     1\n",
       "1509.840000     1\n",
       "1509.827589     1\n",
       "1509.820000     1\n",
       "7171.070000     1\n",
       "Length: 82070, dtype: int64"
      ]
     },
     "execution_count": 29,
     "metadata": {},
     "output_type": "execute_result"
    }
   ],
   "source": [
    "images_boxes[['min_X']].value_counts()"
   ]
  },
  {
   "cell_type": "code",
   "execution_count": 9,
   "metadata": {},
   "outputs": [],
   "source": [
    "#images_boxes.to_csv('images_boxes_w.csv', index=False)"
   ]
  },
  {
   "cell_type": "code",
   "execution_count": 7,
   "metadata": {},
   "outputs": [
    {
     "data": {
      "text/plain": [
       "pbw    127752\n",
       "abw      9223\n",
       "Name: worm_type, dtype: int64"
      ]
     },
     "execution_count": 7,
     "metadata": {},
     "output_type": "execute_result"
    }
   ],
   "source": [
    "images_boxes[\"worm_type\"].value_counts()"
   ]
  },
  {
   "cell_type": "code",
   "execution_count": 8,
   "metadata": {},
   "outputs": [
    {
     "data": {
      "text/html": [
       "<div>\n",
       "<style scoped>\n",
       "    .dataframe tbody tr th:only-of-type {\n",
       "        vertical-align: middle;\n",
       "    }\n",
       "\n",
       "    .dataframe tbody tr th {\n",
       "        vertical-align: top;\n",
       "    }\n",
       "\n",
       "    .dataframe thead th {\n",
       "        text-align: right;\n",
       "    }\n",
       "</style>\n",
       "<table border=\"1\" class=\"dataframe\">\n",
       "  <thead>\n",
       "    <tr style=\"text-align: right;\">\n",
       "      <th></th>\n",
       "      <th>min_X</th>\n",
       "      <th>min_Y</th>\n",
       "      <th>max_X</th>\n",
       "      <th>max_Y</th>\n",
       "    </tr>\n",
       "  </thead>\n",
       "  <tbody>\n",
       "    <tr>\n",
       "      <th>49</th>\n",
       "      <td>1347.0</td>\n",
       "      <td>2017.0</td>\n",
       "      <td>1521.0</td>\n",
       "      <td>2169.0</td>\n",
       "    </tr>\n",
       "    <tr>\n",
       "      <th>50</th>\n",
       "      <td>1144.0</td>\n",
       "      <td>2190.0</td>\n",
       "      <td>1575.0</td>\n",
       "      <td>2756.0</td>\n",
       "    </tr>\n",
       "    <tr>\n",
       "      <th>51</th>\n",
       "      <td>1333.0</td>\n",
       "      <td>823.0</td>\n",
       "      <td>1843.0</td>\n",
       "      <td>1192.0</td>\n",
       "    </tr>\n",
       "    <tr>\n",
       "      <th>52</th>\n",
       "      <td>694.0</td>\n",
       "      <td>2344.0</td>\n",
       "      <td>1128.0</td>\n",
       "      <td>2917.0</td>\n",
       "    </tr>\n",
       "    <tr>\n",
       "      <th>53</th>\n",
       "      <td>1342.0</td>\n",
       "      <td>2467.0</td>\n",
       "      <td>1834.0</td>\n",
       "      <td>2853.0</td>\n",
       "    </tr>\n",
       "    <tr>\n",
       "      <th>54</th>\n",
       "      <td>841.0</td>\n",
       "      <td>2158.0</td>\n",
       "      <td>1168.0</td>\n",
       "      <td>2652.0</td>\n",
       "    </tr>\n",
       "  </tbody>\n",
       "</table>\n",
       "</div>"
      ],
      "text/plain": [
       "     min_X   min_Y   max_X   max_Y\n",
       "49  1347.0  2017.0  1521.0  2169.0\n",
       "50  1144.0  2190.0  1575.0  2756.0\n",
       "51  1333.0   823.0  1843.0  1192.0\n",
       "52   694.0  2344.0  1128.0  2917.0\n",
       "53  1342.0  2467.0  1834.0  2853.0\n",
       "54   841.0  2158.0  1168.0  2652.0"
      ]
     },
     "execution_count": 8,
     "metadata": {},
     "output_type": "execute_result"
    }
   ],
   "source": [
    "images_boxes[['min_X','min_Y','max_X','max_Y',]][images_boxes['image_id'] == 'id_f11b846c5dc0d9b877850584.jpg']\n"
   ]
  },
  {
   "cell_type": "code",
   "execution_count": 12,
   "metadata": {},
   "outputs": [],
   "source": [
    "import torchvision.transforms.functional as F\n",
    "def show(imgs):\n",
    "    if not isinstance(imgs, list):\n",
    "        imgs = [imgs]\n",
    "    fix, axs = plt.subplots(ncols=len(imgs), squeeze=False)\n",
    "    for i, img in enumerate(imgs):\n",
    "        img = img.detach()\n",
    "        img = F.to_pil_image(img)\n",
    "        axs[0, i].imshow(np.asarray(img))\n",
    "        axs[0, i].set(xticklabels=[], yticklabels=[], xticks=[], yticks=[])"
   ]
  },
  {
   "cell_type": "code",
   "execution_count": 13,
   "metadata": {},
   "outputs": [
    {
     "name": "stdout",
     "output_type": "stream",
     "text": [
      "torch.Size([3, 4160, 3120])\n"
     ]
    }
   ],
   "source": [
    "from torchvision.io import read_image\n",
    "img = read_image('images/id_f11b846c5dc0d9b877850584.jpg')\n",
    "print(img.size())"
   ]
  },
  {
   "cell_type": "code",
   "execution_count": 14,
   "metadata": {},
   "outputs": [
    {
     "name": "stdout",
     "output_type": "stream",
     "text": [
      "torch.Size([6, 4])\n",
      "tensor([[1347., 2017., 1521., 2169.],\n",
      "        [1144., 2190., 1575., 2756.],\n",
      "        [1333.,  823., 1843., 1192.],\n",
      "        [ 694., 2344., 1128., 2917.],\n",
      "        [1342., 2467., 1834., 2853.],\n",
      "        [ 841., 2158., 1168., 2652.]], dtype=torch.float64)\n"
     ]
    }
   ],
   "source": [
    "# creating boxes\n",
    "boxes = torch.tensor(images_boxes[['min_X','min_Y','max_X','max_Y']][images_boxes['image_id'] == 'id_f11b846c5dc0d9b877850584.jpg'].values)\n",
    "print(boxes.size())\n",
    "print(boxes)"
   ]
  },
  {
   "cell_type": "code",
   "execution_count": 28,
   "metadata": {},
   "outputs": [
    {
     "data": {
      "text/plain": [
       "[1, 2, 2, 2, 2, 2]"
      ]
     },
     "execution_count": 28,
     "metadata": {},
     "output_type": "execute_result"
    }
   ],
   "source": [
    "L= images_boxes[['worm_type']][images_boxes['image_id'] == 'id_f11b846c5dc0d9b877850584.jpg'].to_numpy().tolist()\n",
    "L1 = [x[0] for x in L]\n",
    "L1"
   ]
  },
  {
   "cell_type": "code",
   "execution_count": 23,
   "metadata": {},
   "outputs": [
    {
     "name": "stdout",
     "output_type": "stream",
     "text": [
      "torch.Size([6])\n",
      "tensor([1, 2, 2, 2, 2, 2])\n"
     ]
    }
   ],
   "source": [
    "# creating labels\n",
    "labels = torch.tensor(labels)\n",
    "print(labels.size())\n",
    "print(labels)"
   ]
  },
  {
   "cell_type": "code",
   "execution_count": 17,
   "metadata": {},
   "outputs": [
    {
     "data": {
      "image/png": "[encoded data removed]",
      "text/plain": [
       "<Figure size 432x288 with 1 Axes>"
      ]
     },
     "metadata": {},
     "output_type": "display_data"
    }
   ],
   "source": [
    "from torchvision.utils import draw_bounding_boxes\n",
    "\n",
    "drawn_boxes = draw_bounding_boxes(img, boxes, colors=\"red\", width=10)\n",
    "show(drawn_boxes)"
   ]
  }
 ],
 "metadata": {
  "kernelspec": {
   "display_name": "Python 3.9.10 64-bit",
   "language": "python",
   "name": "python3"
  },
  "language_info": {
   "codemirror_mode": {
    "name": "ipython",
    "version": 3
   },
   "file_extension": ".py",
   "mimetype": "text/x-python",
   "name": "python",
   "nbconvert_exporter": "python",
   "pygments_lexer": "ipython3",
   "version": "3.9.10"
  },
  "orig_nbformat": 4,
  "vscode": {
   "interpreter": {
    "hash": "cf92aa13fedf815d5c8dd192b8d835913fde3e8bc926b2a0ad6cc74ef2ba3ca2"
   }
  }
 },
 "nbformat": 4,
 "nbformat_minor": 2
}
